{
  "nbformat": 4,
  "nbformat_minor": 0,
  "metadata": {
    "kernelspec": {
      "display_name": "Python 3",
      "language": "python",
      "name": "python3"
    },
    "language_info": {
      "codemirror_mode": {
        "name": "ipython",
        "version": 3
      },
      "file_extension": ".py",
      "mimetype": "text/x-python",
      "name": "python",
      "nbconvert_exporter": "python",
      "pygments_lexer": "ipython3",
      "version": "3.7.3"
    },
    "colab": {
      "name": "Timeliness.ipynb",
      "provenance": [],
      "toc_visible": true,
      "include_colab_link": true
    }
  },
  "cells": [
    {
      "cell_type": "markdown",
      "metadata": {
        "id": "view-in-github",
        "colab_type": "text"
      },
      "source": [
        "<a href=\"https://colab.research.google.com/github/abebual/Timeliness_analysis/blob/master/Timeliness.ipynb\" target=\"_parent\"><img src=\"https://colab.research.google.com/assets/colab-badge.svg\" alt=\"Open In Colab\"/></a>"
      ]
    },
    {
      "cell_type": "markdown",
      "metadata": {
        "id": "mwLwUE3nwCxm",
        "colab_type": "text"
      },
      "source": [
        "***Rapid Timeliness Analysis of the Contingency Budget Transfer / Utilization**"
      ]
    },
    {
      "cell_type": "code",
      "metadata": {
        "id": "_T17lNMmxiV1",
        "colab_type": "code",
        "outputId": "6d2fbe3b-c0e0-4d24-f74f-ff302ea75cd3",
        "colab": {
          "base_uri": "https://localhost:8080/",
          "height": 34
        }
      },
      "source": [
        "# -*- coding: utf-8 -*-\n",
        "\"\"\"\n",
        "Created on Tue Sep  3 17:45:00 2019\n",
        "\n",
        "@author: abebual\n",
        "\"\"\""
      ],
      "execution_count": 0,
      "outputs": [
        {
          "output_type": "execute_result",
          "data": {
            "text/plain": [
              "'\\nCreated on Tue Sep  3 17:45:00 2019\\n\\n@author: abebual\\n'"
            ]
          },
          "metadata": {
            "tags": []
          },
          "execution_count": 1
        }
      ]
    },
    {
      "cell_type": "code",
      "metadata": {
        "id": "phUsxkdov3Qo",
        "colab_type": "code",
        "colab": {}
      },
      "source": [
        "import csv\n",
        "import numpy as np\n",
        "import os\n",
        "import pandas as pd\n",
        "import matplotlib.pyplot as plt\n",
        "from datetime import datetime\n",
        "import sys"
      ],
      "execution_count": 0,
      "outputs": []
    },
    {
      "cell_type": "code",
      "metadata": {
        "id": "0DSoJYmxv3Qr",
        "colab_type": "code",
        "colab": {}
      },
      "source": [
        "path='C:/Users/abebu/Dropbox/World Bank/Rapid Timeliness Analysis/Data/'\n",
        "os.chdir(path)"
      ],
      "execution_count": 0,
      "outputs": []
    },
    {
      "cell_type": "code",
      "metadata": {
        "id": "QpKY43cTv3Qt",
        "colab_type": "code",
        "outputId": "61c9cfc4-22bb-48da-d951-190ed0030e5d",
        "colab": {}
      },
      "source": [
        "print(os.getcwd())"
      ],
      "execution_count": 0,
      "outputs": [
        {
          "output_type": "stream",
          "text": [
            "C:\\Users\\abebu\\Dropbox\\World Bank\\Rapid Timeliness Analysis\\Data\n"
          ],
          "name": "stdout"
        }
      ]
    },
    {
      "cell_type": "code",
      "metadata": {
        "id": "v6Kmr_jbv3Qw",
        "colab_type": "code",
        "colab": {}
      },
      "source": [
        "v2=pd.read_csv('v2.csv')"
      ],
      "execution_count": 0,
      "outputs": []
    },
    {
      "cell_type": "code",
      "metadata": {
        "id": "VgDFA1fKv3Qy",
        "colab_type": "code",
        "colab": {}
      },
      "source": [
        "v3=pd.read_csv('v3.csv')"
      ],
      "execution_count": 0,
      "outputs": []
    },
    {
      "cell_type": "code",
      "metadata": {
        "id": "g2reanX0v3Q1",
        "colab_type": "code",
        "outputId": "a955603e-5ed8-4741-e39b-9f9419e9a2c3",
        "colab": {}
      },
      "source": [
        "v3.head()"
      ],
      "execution_count": 0,
      "outputs": [
        {
          "output_type": "execute_result",
          "data": {
            "text/html": [
              "<div>\n",
              "<style scoped>\n",
              "    .dataframe tbody tr th:only-of-type {\n",
              "        vertical-align: middle;\n",
              "    }\n",
              "\n",
              "    .dataframe tbody tr th {\n",
              "        vertical-align: top;\n",
              "    }\n",
              "\n",
              "    .dataframe thead th {\n",
              "        text-align: right;\n",
              "    }\n",
              "</style>\n",
              "<table border=\"1\" class=\"dataframe\">\n",
              "  <thead>\n",
              "    <tr style=\"text-align: right;\">\n",
              "      <th></th>\n",
              "      <th>interview__key</th>\n",
              "      <th>interview__id</th>\n",
              "      <th>Region</th>\n",
              "      <th>zone</th>\n",
              "      <th>Woreda</th>\n",
              "      <th>Kebele</th>\n",
              "      <th>Kebele_Type</th>\n",
              "      <th>Community</th>\n",
              "      <th>Household_Code</th>\n",
              "      <th>Categoty</th>\n",
              "      <th>...</th>\n",
              "      <th>GPS_final__Latitude</th>\n",
              "      <th>GPS_final__Longitude</th>\n",
              "      <th>GPS_final__Accuracy</th>\n",
              "      <th>GPS_final__Altitude</th>\n",
              "      <th>GPS_final__Timestamp</th>\n",
              "      <th>sssys_irnd</th>\n",
              "      <th>has__errors</th>\n",
              "      <th>interview__status</th>\n",
              "      <th>e_payment</th>\n",
              "      <th>ngo</th>\n",
              "    </tr>\n",
              "  </thead>\n",
              "  <tbody>\n",
              "    <tr>\n",
              "      <td>0</td>\n",
              "      <td>14-65-25-95</td>\n",
              "      <td>0069651b347f4031ad0721bb3c267d40</td>\n",
              "      <td>Somali</td>\n",
              "      <td>Jarar</td>\n",
              "      <td>Gashamo</td>\n",
              "      <td>zero 2</td>\n",
              "      <td>Near to woreda center or with good transport l...</td>\n",
              "      <td>zero 2</td>\n",
              "      <td>152</td>\n",
              "      <td>Extended  PSNP</td>\n",
              "      <td>...</td>\n",
              "      <td>8.1192391</td>\n",
              "      <td>45.34898985</td>\n",
              "      <td>7</td>\n",
              "      <td>785</td>\n",
              "      <td>2019-06-28T14:41:13</td>\n",
              "      <td>0.553177</td>\n",
              "      <td>0</td>\n",
              "      <td>ApprovedByHeadquarters</td>\n",
              "      <td>0</td>\n",
              "      <td>0</td>\n",
              "    </tr>\n",
              "    <tr>\n",
              "      <td>1</td>\n",
              "      <td>00-58-29-77</td>\n",
              "      <td>00d5dac042a541ef91b5884e7d3631e0</td>\n",
              "      <td>Oromia</td>\n",
              "      <td>East Shewa</td>\n",
              "      <td>Fantale</td>\n",
              "      <td>Gara dima</td>\n",
              "      <td>Remote kebele</td>\n",
              "      <td>Bandira</td>\n",
              "      <td>610</td>\n",
              "      <td>Emergency clients</td>\n",
              "      <td>...</td>\n",
              "      <td>8.71148333333333</td>\n",
              "      <td>39.82586</td>\n",
              "      <td>6.09999990463257</td>\n",
              "      <td>1069.1</td>\n",
              "      <td>2019-06-22T11:41:32</td>\n",
              "      <td>0.764344</td>\n",
              "      <td>0</td>\n",
              "      <td>ApprovedByHeadquarters</td>\n",
              "      <td>0</td>\n",
              "      <td>0</td>\n",
              "    </tr>\n",
              "    <tr>\n",
              "      <td>2</td>\n",
              "      <td>05-15-52-84</td>\n",
              "      <td>00e3e5748d4a4564bcbecab893f3dc13</td>\n",
              "      <td>Amhara</td>\n",
              "      <td>North Wello</td>\n",
              "      <td>Raya Kobo</td>\n",
              "      <td>039 tekulesh</td>\n",
              "      <td>Remote kebele</td>\n",
              "      <td>addis alem /walwoy</td>\n",
              "      <td>12</td>\n",
              "      <td>Emergency clients</td>\n",
              "      <td>...</td>\n",
              "      <td>12.14910852</td>\n",
              "      <td>39.47851415</td>\n",
              "      <td>47</td>\n",
              "      <td>2176</td>\n",
              "      <td>2019-06-27T09:47:26</td>\n",
              "      <td>0.071127</td>\n",
              "      <td>0</td>\n",
              "      <td>ApprovedByHeadquarters</td>\n",
              "      <td>0</td>\n",
              "      <td>0</td>\n",
              "    </tr>\n",
              "    <tr>\n",
              "      <td>3</td>\n",
              "      <td>85-31-57-39</td>\n",
              "      <td>01a0df7b04e641af88e6cd2754221ac6</td>\n",
              "      <td>Oromia</td>\n",
              "      <td>N/Shewa</td>\n",
              "      <td>Wachale</td>\n",
              "      <td>Bosoke jate</td>\n",
              "      <td>Near to woreda center or with good transport l...</td>\n",
              "      <td>Udo</td>\n",
              "      <td>92</td>\n",
              "      <td>Emergency clients</td>\n",
              "      <td>...</td>\n",
              "      <td>9.483549999999999</td>\n",
              "      <td>38.8769416666667</td>\n",
              "      <td>7.90000009536743</td>\n",
              "      <td>2552.9</td>\n",
              "      <td>2019-06-30T04:49:36</td>\n",
              "      <td>0.378713</td>\n",
              "      <td>0</td>\n",
              "      <td>ApprovedByHeadquarters</td>\n",
              "      <td>0</td>\n",
              "      <td>0</td>\n",
              "    </tr>\n",
              "    <tr>\n",
              "      <td>4</td>\n",
              "      <td>85-74-33-94</td>\n",
              "      <td>0233e7d7e34342599740392e57e39de2</td>\n",
              "      <td>SNNP</td>\n",
              "      <td>Hadiya</td>\n",
              "      <td>Mirab Badawacho</td>\n",
              "      <td>Wobara</td>\n",
              "      <td>Near to woreda center or with good transport l...</td>\n",
              "      <td>Ketena 3</td>\n",
              "      <td>7-21-1-21-3/32</td>\n",
              "      <td>Emergency clients</td>\n",
              "      <td>...</td>\n",
              "      <td>7.14476459</td>\n",
              "      <td>37.86211524</td>\n",
              "      <td>13</td>\n",
              "      <td>1895</td>\n",
              "      <td>2019-06-27T11:26:30</td>\n",
              "      <td>0.487199</td>\n",
              "      <td>0</td>\n",
              "      <td>ApprovedByHeadquarters</td>\n",
              "      <td>1</td>\n",
              "      <td>0</td>\n",
              "    </tr>\n",
              "  </tbody>\n",
              "</table>\n",
              "<p>5 rows × 72 columns</p>\n",
              "</div>"
            ],
            "text/plain": [
              "  interview__key                     interview__id  Region         zone  \\\n",
              "0    14-65-25-95  0069651b347f4031ad0721bb3c267d40  Somali        Jarar   \n",
              "1    00-58-29-77  00d5dac042a541ef91b5884e7d3631e0  Oromia   East Shewa   \n",
              "2    05-15-52-84  00e3e5748d4a4564bcbecab893f3dc13  Amhara  North Wello   \n",
              "3    85-31-57-39  01a0df7b04e641af88e6cd2754221ac6  Oromia      N/Shewa   \n",
              "4    85-74-33-94  0233e7d7e34342599740392e57e39de2    SNNP       Hadiya   \n",
              "\n",
              "            Woreda        Kebele  \\\n",
              "0          Gashamo        zero 2   \n",
              "1          Fantale     Gara dima   \n",
              "2        Raya Kobo  039 tekulesh   \n",
              "3          Wachale   Bosoke jate   \n",
              "4  Mirab Badawacho        Wobara   \n",
              "\n",
              "                                         Kebele_Type           Community  \\\n",
              "0  Near to woreda center or with good transport l...              zero 2   \n",
              "1                                      Remote kebele             Bandira   \n",
              "2                                      Remote kebele  addis alem /walwoy   \n",
              "3  Near to woreda center or with good transport l...                 Udo   \n",
              "4  Near to woreda center or with good transport l...            Ketena 3   \n",
              "\n",
              "   Household_Code           Categoty  ... GPS_final__Latitude  \\\n",
              "0             152     Extended  PSNP  ...           8.1192391   \n",
              "1             610  Emergency clients  ...    8.71148333333333   \n",
              "2              12  Emergency clients  ...         12.14910852   \n",
              "3              92  Emergency clients  ...   9.483549999999999   \n",
              "4  7-21-1-21-3/32  Emergency clients  ...          7.14476459   \n",
              "\n",
              "   GPS_final__Longitude  GPS_final__Accuracy  GPS_final__Altitude  \\\n",
              "0           45.34898985                    7                  785   \n",
              "1              39.82586     6.09999990463257               1069.1   \n",
              "2           39.47851415                   47                 2176   \n",
              "3      38.8769416666667     7.90000009536743               2552.9   \n",
              "4           37.86211524                   13                 1895   \n",
              "\n",
              "   GPS_final__Timestamp sssys_irnd has__errors       interview__status  \\\n",
              "0   2019-06-28T14:41:13   0.553177           0  ApprovedByHeadquarters   \n",
              "1   2019-06-22T11:41:32   0.764344           0  ApprovedByHeadquarters   \n",
              "2   2019-06-27T09:47:26   0.071127           0  ApprovedByHeadquarters   \n",
              "3   2019-06-30T04:49:36   0.378713           0  ApprovedByHeadquarters   \n",
              "4   2019-06-27T11:26:30   0.487199           0  ApprovedByHeadquarters   \n",
              "\n",
              "  e_payment ngo  \n",
              "0         0   0  \n",
              "1         0   0  \n",
              "2         0   0  \n",
              "3         0   0  \n",
              "4         1   0  \n",
              "\n",
              "[5 rows x 72 columns]"
            ]
          },
          "metadata": {
            "tags": []
          },
          "execution_count": 11
        }
      ]
    },
    {
      "cell_type": "code",
      "metadata": {
        "id": "cZil1redv3Q3",
        "colab_type": "code",
        "outputId": "7d0ef973-95e2-4118-b402-9c42f9eba44e",
        "colab": {}
      },
      "source": [
        "v2.append(v3, ignore_index=True, sort=False)"
      ],
      "execution_count": 0,
      "outputs": [
        {
          "output_type": "execute_result",
          "data": {
            "text/html": [
              "<div>\n",
              "<style scoped>\n",
              "    .dataframe tbody tr th:only-of-type {\n",
              "        vertical-align: middle;\n",
              "    }\n",
              "\n",
              "    .dataframe tbody tr th {\n",
              "        vertical-align: top;\n",
              "    }\n",
              "\n",
              "    .dataframe thead th {\n",
              "        text-align: right;\n",
              "    }\n",
              "</style>\n",
              "<table border=\"1\" class=\"dataframe\">\n",
              "  <thead>\n",
              "    <tr style=\"text-align: right;\">\n",
              "      <th></th>\n",
              "      <th>interview__key</th>\n",
              "      <th>interview__id</th>\n",
              "      <th>Region</th>\n",
              "      <th>zone</th>\n",
              "      <th>Woreda</th>\n",
              "      <th>Kebele</th>\n",
              "      <th>Kebele_Type</th>\n",
              "      <th>Community</th>\n",
              "      <th>Household_Code</th>\n",
              "      <th>Categoty</th>\n",
              "      <th>...</th>\n",
              "      <th>GPS_final__Altitude</th>\n",
              "      <th>GPS_final__Timestamp</th>\n",
              "      <th>sssys_irnd</th>\n",
              "      <th>has__errors</th>\n",
              "      <th>interview__status</th>\n",
              "      <th>e_pyment</th>\n",
              "      <th>ngo</th>\n",
              "      <th>hhSize</th>\n",
              "      <th>rounds</th>\n",
              "      <th>e_payment</th>\n",
              "    </tr>\n",
              "  </thead>\n",
              "  <tbody>\n",
              "    <tr>\n",
              "      <td>0</td>\n",
              "      <td>20-82-15-16</td>\n",
              "      <td>0050c2a311d84a73b67b4f8706cac511</td>\n",
              "      <td>Tigray</td>\n",
              "      <td>Eastern</td>\n",
              "      <td>KilteAwelaelo</td>\n",
              "      <td>tahetay Adi kesanded</td>\n",
              "      <td>Near to woreda center or with good transport l...</td>\n",
              "      <td>laely wukero</td>\n",
              "      <td>74</td>\n",
              "      <td>Emergency clients</td>\n",
              "      <td>...</td>\n",
              "      <td>2007</td>\n",
              "      <td>2019-06-10T10:11:31</td>\n",
              "      <td>0.857276</td>\n",
              "      <td>0</td>\n",
              "      <td>ApprovedByHeadquarters</td>\n",
              "      <td>0.0</td>\n",
              "      <td>0</td>\n",
              "      <td>NaN</td>\n",
              "      <td>NaN</td>\n",
              "      <td>NaN</td>\n",
              "    </tr>\n",
              "    <tr>\n",
              "      <td>1</td>\n",
              "      <td>31-01-87-90</td>\n",
              "      <td>04e36e6a80364515817d03b83d77dce9</td>\n",
              "      <td>Tigray</td>\n",
              "      <td>Central</td>\n",
              "      <td>LaelayMachew</td>\n",
              "      <td>Adi tshafi</td>\n",
              "      <td>Remote kebele</td>\n",
              "      <td>Adi tsehafi</td>\n",
              "      <td>50</td>\n",
              "      <td>Emergency clients</td>\n",
              "      <td>...</td>\n",
              "      <td>2158</td>\n",
              "      <td>2019-06-15T11:06:29</td>\n",
              "      <td>0.391574</td>\n",
              "      <td>0</td>\n",
              "      <td>ApprovedByHeadquarters</td>\n",
              "      <td>1.0</td>\n",
              "      <td>0</td>\n",
              "      <td>NaN</td>\n",
              "      <td>NaN</td>\n",
              "      <td>NaN</td>\n",
              "    </tr>\n",
              "    <tr>\n",
              "      <td>2</td>\n",
              "      <td>99-17-21-07</td>\n",
              "      <td>07a8ab1fe91148cba4904ba768369eaf</td>\n",
              "      <td>Tigray</td>\n",
              "      <td>Eastern</td>\n",
              "      <td>KilteAwelaelo</td>\n",
              "      <td>Tahtay Adiksanded</td>\n",
              "      <td>Near to woreda center or with good transport l...</td>\n",
              "      <td>Laelay Wkro</td>\n",
              "      <td>139</td>\n",
              "      <td>Emergency clients</td>\n",
              "      <td>...</td>\n",
              "      <td>2013</td>\n",
              "      <td>2019-06-10T09:10:29</td>\n",
              "      <td>0.239945</td>\n",
              "      <td>0</td>\n",
              "      <td>ApprovedByHeadquarters</td>\n",
              "      <td>0.0</td>\n",
              "      <td>0</td>\n",
              "      <td>NaN</td>\n",
              "      <td>NaN</td>\n",
              "      <td>NaN</td>\n",
              "    </tr>\n",
              "    <tr>\n",
              "      <td>3</td>\n",
              "      <td>22-08-17-14</td>\n",
              "      <td>09ce1dfd33c545f8895df5b138073b38</td>\n",
              "      <td>Tigray</td>\n",
              "      <td>Central</td>\n",
              "      <td>LaelayMachew</td>\n",
              "      <td>htsebo</td>\n",
              "      <td>Near to woreda center or with good transport l...</td>\n",
              "      <td>semeret</td>\n",
              "      <td>265</td>\n",
              "      <td>Emergency clients</td>\n",
              "      <td>...</td>\n",
              "      <td>2127</td>\n",
              "      <td>2019-06-16T10:21:11</td>\n",
              "      <td>0.256070</td>\n",
              "      <td>0</td>\n",
              "      <td>ApprovedByHeadquarters</td>\n",
              "      <td>1.0</td>\n",
              "      <td>0</td>\n",
              "      <td>NaN</td>\n",
              "      <td>NaN</td>\n",
              "      <td>NaN</td>\n",
              "    </tr>\n",
              "    <tr>\n",
              "      <td>4</td>\n",
              "      <td>90-31-40-64</td>\n",
              "      <td>0a600d67d8f44aa496226f866288dd11</td>\n",
              "      <td>Tigray</td>\n",
              "      <td>Eastern</td>\n",
              "      <td>KilteAwelaelo</td>\n",
              "      <td>Hadnet</td>\n",
              "      <td>Remote kebele</td>\n",
              "      <td>Tsebat</td>\n",
              "      <td>270</td>\n",
              "      <td>Emergency clients</td>\n",
              "      <td>...</td>\n",
              "      <td>2238</td>\n",
              "      <td>2019-06-11T08:28:11</td>\n",
              "      <td>0.249295</td>\n",
              "      <td>0</td>\n",
              "      <td>ApprovedByHeadquarters</td>\n",
              "      <td>0.0</td>\n",
              "      <td>0</td>\n",
              "      <td>NaN</td>\n",
              "      <td>NaN</td>\n",
              "      <td>NaN</td>\n",
              "    </tr>\n",
              "    <tr>\n",
              "      <td>...</td>\n",
              "      <td>...</td>\n",
              "      <td>...</td>\n",
              "      <td>...</td>\n",
              "      <td>...</td>\n",
              "      <td>...</td>\n",
              "      <td>...</td>\n",
              "      <td>...</td>\n",
              "      <td>...</td>\n",
              "      <td>...</td>\n",
              "      <td>...</td>\n",
              "      <td>...</td>\n",
              "      <td>...</td>\n",
              "      <td>...</td>\n",
              "      <td>...</td>\n",
              "      <td>...</td>\n",
              "      <td>...</td>\n",
              "      <td>...</td>\n",
              "      <td>...</td>\n",
              "      <td>...</td>\n",
              "      <td>...</td>\n",
              "      <td>...</td>\n",
              "    </tr>\n",
              "    <tr>\n",
              "      <td>597</td>\n",
              "      <td>63-27-38-41</td>\n",
              "      <td>fe3d1de0d3d14d9c98ed596b1eeba0fc</td>\n",
              "      <td>Oromia</td>\n",
              "      <td>N/Shewa</td>\n",
              "      <td>Wachale</td>\n",
              "      <td>Mechala werto</td>\n",
              "      <td>Near to woreda center or with good transport l...</td>\n",
              "      <td>Temame</td>\n",
              "      <td>72</td>\n",
              "      <td>Emergency clients</td>\n",
              "      <td>...</td>\n",
              "      <td>2771.2</td>\n",
              "      <td>2019-06-30T10:38:44</td>\n",
              "      <td>0.301226</td>\n",
              "      <td>0</td>\n",
              "      <td>ApprovedByHeadquarters</td>\n",
              "      <td>NaN</td>\n",
              "      <td>0</td>\n",
              "      <td>4.0</td>\n",
              "      <td>5.0</td>\n",
              "      <td>0.0</td>\n",
              "    </tr>\n",
              "    <tr>\n",
              "      <td>598</td>\n",
              "      <td>24-79-43-62</td>\n",
              "      <td>fec20ff4820244f78ee4b5de54a55f00</td>\n",
              "      <td>Oromia</td>\n",
              "      <td>East Shewa</td>\n",
              "      <td>Fantale</td>\n",
              "      <td>kobo</td>\n",
              "      <td>Near to woreda center or with good transport l...</td>\n",
              "      <td>Muka bedena</td>\n",
              "      <td>131</td>\n",
              "      <td>Extended  PSNP</td>\n",
              "      <td>...</td>\n",
              "      <td>951.8</td>\n",
              "      <td>2019-06-23T08:51:00</td>\n",
              "      <td>0.236586</td>\n",
              "      <td>0</td>\n",
              "      <td>ApprovedByHeadquarters</td>\n",
              "      <td>NaN</td>\n",
              "      <td>0</td>\n",
              "      <td>7.0</td>\n",
              "      <td>4.0</td>\n",
              "      <td>0.0</td>\n",
              "    </tr>\n",
              "    <tr>\n",
              "      <td>599</td>\n",
              "      <td>49-82-56-25</td>\n",
              "      <td>fef60e8440bf41f5acd9f355e885ab8c</td>\n",
              "      <td>Amhara</td>\n",
              "      <td>North Shewa</td>\n",
              "      <td>Menez Lalo</td>\n",
              "      <td>038 (Derew Kebelle)</td>\n",
              "      <td>Near to woreda center or with good transport l...</td>\n",
              "      <td>Tenket Got metek Anjora</td>\n",
              "      <td>29</td>\n",
              "      <td>Emergency clients</td>\n",
              "      <td>...</td>\n",
              "      <td>2430.8</td>\n",
              "      <td>2019-07-11T11:59:46</td>\n",
              "      <td>0.642592</td>\n",
              "      <td>0</td>\n",
              "      <td>ApprovedByHeadquarters</td>\n",
              "      <td>NaN</td>\n",
              "      <td>0</td>\n",
              "      <td>7.0</td>\n",
              "      <td>3.0</td>\n",
              "      <td>0.0</td>\n",
              "    </tr>\n",
              "    <tr>\n",
              "      <td>600</td>\n",
              "      <td>28-84-78-88</td>\n",
              "      <td>ff3d0a4e3b7f4311b70848758c6c5dee</td>\n",
              "      <td>Oromia</td>\n",
              "      <td>N/Shewa</td>\n",
              "      <td>Debre Libanos</td>\n",
              "      <td>Enegotam</td>\n",
              "      <td>Remote kebele</td>\n",
              "      <td>Enegotam</td>\n",
              "      <td>331</td>\n",
              "      <td>Emergency clients</td>\n",
              "      <td>...</td>\n",
              "      <td>2201.5</td>\n",
              "      <td>2019-06-28T07:12:00</td>\n",
              "      <td>0.113342</td>\n",
              "      <td>0</td>\n",
              "      <td>ApprovedByHeadquarters</td>\n",
              "      <td>NaN</td>\n",
              "      <td>0</td>\n",
              "      <td>6.0</td>\n",
              "      <td>5.0</td>\n",
              "      <td>0.0</td>\n",
              "    </tr>\n",
              "    <tr>\n",
              "      <td>601</td>\n",
              "      <td>12-19-79-79</td>\n",
              "      <td>ff6e22fa3f294af39bd685a143bbe7a9</td>\n",
              "      <td>SNNP</td>\n",
              "      <td>Guraghe</td>\n",
              "      <td>Sodo</td>\n",
              "      <td>Adelle gose</td>\n",
              "      <td>Near to woreda center or with good transport l...</td>\n",
              "      <td>Bobenajere</td>\n",
              "      <td>04</td>\n",
              "      <td>Emergency clients</td>\n",
              "      <td>...</td>\n",
              "      <td>1861</td>\n",
              "      <td>2019-07-03T09:21:51</td>\n",
              "      <td>0.107598</td>\n",
              "      <td>0</td>\n",
              "      <td>ApprovedByHeadquarters</td>\n",
              "      <td>NaN</td>\n",
              "      <td>0</td>\n",
              "      <td>5.0</td>\n",
              "      <td>1.0</td>\n",
              "      <td>0.0</td>\n",
              "    </tr>\n",
              "  </tbody>\n",
              "</table>\n",
              "<p>602 rows × 83 columns</p>\n",
              "</div>"
            ],
            "text/plain": [
              "    interview__key                     interview__id  Region         zone  \\\n",
              "0      20-82-15-16  0050c2a311d84a73b67b4f8706cac511  Tigray      Eastern   \n",
              "1      31-01-87-90  04e36e6a80364515817d03b83d77dce9  Tigray      Central   \n",
              "2      99-17-21-07  07a8ab1fe91148cba4904ba768369eaf  Tigray      Eastern   \n",
              "3      22-08-17-14  09ce1dfd33c545f8895df5b138073b38  Tigray      Central   \n",
              "4      90-31-40-64  0a600d67d8f44aa496226f866288dd11  Tigray      Eastern   \n",
              "..             ...                               ...     ...          ...   \n",
              "597    63-27-38-41  fe3d1de0d3d14d9c98ed596b1eeba0fc  Oromia      N/Shewa   \n",
              "598    24-79-43-62  fec20ff4820244f78ee4b5de54a55f00  Oromia   East Shewa   \n",
              "599    49-82-56-25  fef60e8440bf41f5acd9f355e885ab8c  Amhara  North Shewa   \n",
              "600    28-84-78-88  ff3d0a4e3b7f4311b70848758c6c5dee  Oromia      N/Shewa   \n",
              "601    12-19-79-79  ff6e22fa3f294af39bd685a143bbe7a9    SNNP      Guraghe   \n",
              "\n",
              "            Woreda                Kebele  \\\n",
              "0    KilteAwelaelo  tahetay Adi kesanded   \n",
              "1     LaelayMachew            Adi tshafi   \n",
              "2    KilteAwelaelo     Tahtay Adiksanded   \n",
              "3     LaelayMachew                htsebo   \n",
              "4    KilteAwelaelo                Hadnet   \n",
              "..             ...                   ...   \n",
              "597        Wachale         Mechala werto   \n",
              "598        Fantale                  kobo   \n",
              "599     Menez Lalo   038 (Derew Kebelle)   \n",
              "600  Debre Libanos              Enegotam   \n",
              "601           Sodo           Adelle gose   \n",
              "\n",
              "                                           Kebele_Type  \\\n",
              "0    Near to woreda center or with good transport l...   \n",
              "1                                        Remote kebele   \n",
              "2    Near to woreda center or with good transport l...   \n",
              "3    Near to woreda center or with good transport l...   \n",
              "4                                        Remote kebele   \n",
              "..                                                 ...   \n",
              "597  Near to woreda center or with good transport l...   \n",
              "598  Near to woreda center or with good transport l...   \n",
              "599  Near to woreda center or with good transport l...   \n",
              "600                                      Remote kebele   \n",
              "601  Near to woreda center or with good transport l...   \n",
              "\n",
              "                   Community Household_Code           Categoty  ...  \\\n",
              "0               laely wukero             74  Emergency clients  ...   \n",
              "1                Adi tsehafi             50  Emergency clients  ...   \n",
              "2                Laelay Wkro            139  Emergency clients  ...   \n",
              "3                    semeret            265  Emergency clients  ...   \n",
              "4                     Tsebat            270  Emergency clients  ...   \n",
              "..                       ...            ...                ...  ...   \n",
              "597                   Temame             72  Emergency clients  ...   \n",
              "598              Muka bedena            131     Extended  PSNP  ...   \n",
              "599  Tenket Got metek Anjora             29  Emergency clients  ...   \n",
              "600                 Enegotam            331  Emergency clients  ...   \n",
              "601               Bobenajere             04  Emergency clients  ...   \n",
              "\n",
              "    GPS_final__Altitude GPS_final__Timestamp sssys_irnd has__errors  \\\n",
              "0                  2007  2019-06-10T10:11:31   0.857276           0   \n",
              "1                  2158  2019-06-15T11:06:29   0.391574           0   \n",
              "2                  2013  2019-06-10T09:10:29   0.239945           0   \n",
              "3                  2127  2019-06-16T10:21:11   0.256070           0   \n",
              "4                  2238  2019-06-11T08:28:11   0.249295           0   \n",
              "..                  ...                  ...        ...         ...   \n",
              "597              2771.2  2019-06-30T10:38:44   0.301226           0   \n",
              "598               951.8  2019-06-23T08:51:00   0.236586           0   \n",
              "599              2430.8  2019-07-11T11:59:46   0.642592           0   \n",
              "600              2201.5  2019-06-28T07:12:00   0.113342           0   \n",
              "601                1861  2019-07-03T09:21:51   0.107598           0   \n",
              "\n",
              "          interview__status e_pyment ngo hhSize rounds e_payment  \n",
              "0    ApprovedByHeadquarters      0.0   0    NaN    NaN       NaN  \n",
              "1    ApprovedByHeadquarters      1.0   0    NaN    NaN       NaN  \n",
              "2    ApprovedByHeadquarters      0.0   0    NaN    NaN       NaN  \n",
              "3    ApprovedByHeadquarters      1.0   0    NaN    NaN       NaN  \n",
              "4    ApprovedByHeadquarters      0.0   0    NaN    NaN       NaN  \n",
              "..                      ...      ...  ..    ...    ...       ...  \n",
              "597  ApprovedByHeadquarters      NaN   0    4.0    5.0       0.0  \n",
              "598  ApprovedByHeadquarters      NaN   0    7.0    4.0       0.0  \n",
              "599  ApprovedByHeadquarters      NaN   0    7.0    3.0       0.0  \n",
              "600  ApprovedByHeadquarters      NaN   0    6.0    5.0       0.0  \n",
              "601  ApprovedByHeadquarters      NaN   0    5.0    1.0       0.0  \n",
              "\n",
              "[602 rows x 83 columns]"
            ]
          },
          "metadata": {
            "tags": []
          },
          "execution_count": 13
        }
      ]
    },
    {
      "cell_type": "code",
      "metadata": {
        "id": "vZcBT_69v3Q6",
        "colab_type": "code",
        "outputId": "2088e82e-5fa2-47dd-8496-e85aae5dfd2d",
        "colab": {}
      },
      "source": [
        "v2.info()"
      ],
      "execution_count": 0,
      "outputs": [
        {
          "output_type": "stream",
          "text": [
            "<class 'pandas.core.frame.DataFrame'>\n",
            "RangeIndex: 120 entries, 0 to 119\n",
            "Data columns (total 80 columns):\n",
            "interview__key              120 non-null object\n",
            "interview__id               120 non-null object\n",
            "Region                      120 non-null object\n",
            "zone                        120 non-null object\n",
            "Woreda                      120 non-null object\n",
            "Kebele                      120 non-null object\n",
            "Kebele_Type                 120 non-null object\n",
            "Community                   120 non-null object\n",
            "Household_Code              120 non-null int64\n",
            "Categoty                    120 non-null object\n",
            "time_Date                   120 non-null object\n",
            "GPS__Latitude               120 non-null object\n",
            "GPS__Longitude              120 non-null object\n",
            "GPS__Accuracy               120 non-null object\n",
            "GPS__Altitude               120 non-null object\n",
            "GPS__Timestamp              120 non-null object\n",
            "Interviewer_id              120 non-null object\n",
            "Consent                     120 non-null object\n",
            "gender                      120 non-null object\n",
            "Respondent_position         120 non-null object\n",
            "Other_relation              0 non-null float64\n",
            "age                         120 non-null int64\n",
            "attend_school               120 non-null object\n",
            "any_aid                     120 non-null object\n",
            "PSNP                        120 non-null object\n",
            "PSNP_group                  18 non-null object\n",
            "additional_assistance       120 non-null object\n",
            "food_cash                   120 non-null object\n",
            "client_card                 120 non-null object\n",
            "cards                       15 non-null object\n",
            "rounds__0                   120 non-null object\n",
            "rounds__1                   120 non-null object\n",
            "rounds__2                   120 non-null object\n",
            "rounds__3                   120 non-null object\n",
            "rounds__4                   120 non-null object\n",
            "rounds__5                   120 non-null object\n",
            "rounds__6                   120 non-null object\n",
            "rounds__7                   120 non-null object\n",
            "rounds__8                   120 non-null object\n",
            "rounds__9                   120 non-null object\n",
            "first_time                  120 non-null object\n",
            "support_location            120 non-null object\n",
            "other_supp_location         0 non-null float64\n",
            "distance                    120 non-null object\n",
            "travel_time                 120 non-null object\n",
            "problem__1                  120 non-null int64\n",
            "problem__2                  120 non-null int64\n",
            "problem__3                  120 non-null int64\n",
            "problem__4                  120 non-null int64\n",
            "problem__98                 120 non-null int64\n",
            "other_problem               25 non-null object\n",
            "delay_info                  89 non-null object\n",
            "delay_reason__1             89 non-null float64\n",
            "delay_reason__2             89 non-null float64\n",
            "delay_reason__3             89 non-null float64\n",
            "delay_reason__4             89 non-null float64\n",
            "delay_reason__5             89 non-null float64\n",
            "delay_reason__6             89 non-null float64\n",
            "delay_reason__98            89 non-null float64\n",
            "delay_reason__99            89 non-null float64\n",
            "other_dealy_reason          1 non-null object\n",
            "payment_schedule            120 non-null object\n",
            "rescheduled                 120 non-null object\n",
            "reschedule_inadvance        76 non-null object\n",
            "willingness_phone_number    120 non-null object\n",
            "phone_number                120 non-null object\n",
            "interview_success           120 non-null object\n",
            "refusal_reason              0 non-null float64\n",
            "other_reason                0 non-null float64\n",
            "finish_time                 120 non-null object\n",
            "GPS_final__Latitude         120 non-null float64\n",
            "GPS_final__Longitude        120 non-null float64\n",
            "GPS_final__Accuracy         120 non-null int64\n",
            "GPS_final__Altitude         120 non-null int64\n",
            "GPS_final__Timestamp        120 non-null object\n",
            "sssys_irnd                  120 non-null float64\n",
            "has__errors                 120 non-null int64\n",
            "interview__status           120 non-null object\n",
            "e_pyment                    120 non-null int64\n",
            "ngo                         120 non-null int64\n",
            "dtypes: float64(15), int64(12), object(53)\n",
            "memory usage: 75.1+ KB\n"
          ],
          "name": "stdout"
        }
      ]
    },
    {
      "cell_type": "code",
      "metadata": {
        "id": "6f4sTgy8v3Q9",
        "colab_type": "code",
        "outputId": "1411b25d-a5e5-4887-ec79-183c0952890e",
        "colab": {}
      },
      "source": [
        "v2['ngo'].value_counts().plot(kind='bar')"
      ],
      "execution_count": 0,
      "outputs": [
        {
          "output_type": "execute_result",
          "data": {
            "text/plain": [
              "<matplotlib.axes._subplots.AxesSubplot at 0x135a32a7358>"
            ]
          },
          "metadata": {
            "tags": []
          },
          "execution_count": 18
        },
        {
          "output_type": "display_data",
          "data": {
            "image/png": "[encoded data removed]",
            "text/plain": [
              "<Figure size 432x288 with 1 Axes>"
            ]
          },
          "metadata": {
            "tags": [],
            "needs_background": "light"
          }
        }
      ]
    },
    {
      "cell_type": "code",
      "metadata": {
        "id": "hLle4ik3v3Q_",
        "colab_type": "code",
        "outputId": "f59a4807-d4f7-489d-e775-f3d6d80b54a7",
        "colab": {}
      },
      "source": [
        "v3['ngo'].value_counts().plot(kind='bar')"
      ],
      "execution_count": 0,
      "outputs": [
        {
          "output_type": "execute_result",
          "data": {
            "text/plain": [
              "<matplotlib.axes._subplots.AxesSubplot at 0x135a3ebfcc0>"
            ]
          },
          "metadata": {
            "tags": []
          },
          "execution_count": 19
        },
        {
          "output_type": "display_data",
          "data": {
            "image/png": "[encoded data removed]",
            "text/plain": [
              "<Figure size 432x288 with 1 Axes>"
            ]
          },
          "metadata": {
            "tags": [],
            "needs_background": "light"
          }
        }
      ]
    },
    {
      "cell_type": "code",
      "metadata": {
        "id": "Vg6ya1y3v3RB",
        "colab_type": "code",
        "outputId": "71564224-ddec-4099-c4e4-f9da7ad805de",
        "colab": {}
      },
      "source": [
        "N = 5\n",
        "ind = np.arange(N)  # the x locations for the groups\n",
        "width = 0.35    # the width of the bars\n",
        "Region= ['Amhara', 'Oromia', 'Somali', 'SNNP','Total']\n",
        "\n",
        "fig = plt.figure()\n",
        "ax = fig.add_subplot(111)\n",
        "\n",
        "Food=[85,76,23,51,67]\n",
        "rects_r1 = ax.bar(ind, Food, width, color='cyan')\n",
        "Cash= [15,24,77,49,33]\n",
        "rects_r2 = ax.bar(ind+width, Cash, width, color='yellow')\n",
        "\n",
        "ax.set_ylabel('Percent')\n",
        "ax.set_xticks(ind+width)\n",
        "ax.set_ylim(0, 100)\n",
        "ax.set_xticklabels(('Amhara', 'Oromia', 'Somali', 'SNNP','Total'), fontsize=11)\n",
        "ax.legend( (rects_r1[0], rects_r2[0]), \n",
        "          ('Food', 'Cash'), fontsize=11)\n",
        "ax.set_title('Type of assistance recieved by Region', fontsize=11)\n",
        "\n",
        "plt.show()\n"
      ],
      "execution_count": 0,
      "outputs": [
        {
          "output_type": "display_data",
          "data": {
            "image/png": "[encoded data removed]",
            "text/plain": [
              "<Figure size 432x288 with 1 Axes>"
            ]
          },
          "metadata": {
            "tags": [],
            "needs_background": "light"
          }
        }
      ]
    },
    {
      "cell_type": "code",
      "metadata": {
        "id": "PivLi2Jav3RE",
        "colab_type": "code",
        "outputId": "a5276f01-428a-445b-cee9-9e2f27477a05",
        "colab": {}
      },
      "source": [
        "N = 5\n",
        "ind = np.arange(N)  # the x locations for the groups\n",
        "width = 0.35    # the width of the bars\n",
        "Region= ['Amhara', 'Oromia', 'Somali', 'SNNP','Tigray']\n",
        "\n",
        "fig = plt.figure()\n",
        "ax = fig.add_subplot(111)\n",
        "\n",
        "e_payment=[25,20,31,50,50]\n",
        "rects_r1 = ax.bar(ind, e_payment, width, color='cyan')\n",
        "Manual= [75,80,69,50,50]\n",
        "rects_r2 = ax.bar(ind+width, Manual, width, color='yellow')\n",
        "\n",
        "ax.set_ylabel('Percent')\n",
        "ax.set_xticks(ind+width)\n",
        "ax.set_ylim(0, 100)\n",
        "ax.set_xticklabels(('Amhara', 'Oromia', 'Somali', 'SNNP','Tigray'), fontsize=11)\n",
        "ax.legend( (rects_r1[0], rects_r2[0]), \n",
        "          ('e-payment', 'Manual Payment'), fontsize=11)\n",
        "ax.set_title('Payment Method', fontsize=11)\n",
        "\n",
        "plt.show()"
      ],
      "execution_count": 0,
      "outputs": [
        {
          "output_type": "display_data",
          "data": {
            "image/png": "[encoded data removed]",
            "text/plain": [
              "<Figure size 432x288 with 1 Axes>"
            ]
          },
          "metadata": {
            "tags": [],
            "needs_background": "light"
          }
        }
      ]
    },
    {
      "cell_type": "code",
      "metadata": {
        "id": "fJpe4We1v3RG",
        "colab_type": "code",
        "colab": {}
      },
      "source": [
        "fig.savefig('e_payment.png')"
      ],
      "execution_count": 0,
      "outputs": []
    },
    {
      "cell_type": "code",
      "metadata": {
        "id": "o-kt4oONv3RJ",
        "colab_type": "code",
        "outputId": "765e8a0d-c587-4165-8ef0-a40a95dd792e",
        "colab": {}
      },
      "source": [
        "N = 5\n",
        "ind = np.arange(N)  # the x locations for the groups\n",
        "width = 0.35    # the width of the bars\n",
        "Region= ['Amhara', 'Oromia', 'Somali', 'SNNP','Tigray']\n",
        "\n",
        "fig = plt.figure()\n",
        "ax = fig.add_subplot(111)\n",
        "\n",
        "NGO=[25,0,0,0,25]\n",
        "rects_r1 = ax.bar(ind, NGO, width, color='cyan')\n",
        "Non_NGO= [75,100,100,100,75]\n",
        "rects_r2 = ax.bar(ind+width, Non_NGO, width, color='yellow')\n",
        "\n",
        "ax.set_ylabel('Percent')\n",
        "ax.set_xticks(ind+width)\n",
        "ax.set_ylim(0, 100)\n",
        "ax.set_xticklabels(('Amhara', 'Oromia', 'Somali', 'SNNP','Tigray'), fontsize=11)\n",
        "ax.legend( (rects_r1[0], rects_r2[0]), \n",
        "          ('NGO', 'Non NGO'), fontsize=11)\n",
        "ax.set_title('Service Provider', fontsize=11)\n",
        "\n",
        "plt.show()"
      ],
      "execution_count": 0,
      "outputs": [
        {
          "output_type": "display_data",
          "data": {
            "image/png": "[encoded data removed]",
            "text/plain": [
              "<Figure size 432x288 with 1 Axes>"
            ]
          },
          "metadata": {
            "tags": [],
            "needs_background": "light"
          }
        }
      ]
    },
    {
      "cell_type": "code",
      "metadata": {
        "id": "XuBx36dzv3RM",
        "colab_type": "code",
        "colab": {}
      },
      "source": [
        "fig.savefig('service_provider.png')"
      ],
      "execution_count": 0,
      "outputs": []
    },
    {
      "cell_type": "code",
      "metadata": {
        "id": "7_lxK9qOv3RP",
        "colab_type": "code",
        "outputId": "f8460049-5f40-412d-9e94-ed859869ae25",
        "colab": {}
      },
      "source": [
        "N = 5\n",
        "ind = np.arange(N)  # the x locations for the groups\n",
        "width = 0.35    # the width of the bars\n",
        "Region= ['Amhara', 'Oromia', 'Somali', 'SNNP','Tigray']\n",
        "\n",
        "fig = plt.figure()\n",
        "ax = fig.add_subplot(111)\n",
        "\n",
        "PSNP=[20,7,70,5,15]\n",
        "rects_r1 = ax.bar(ind, PSNP, width, color='cyan')\n",
        "Non_PSNP= [80,93,30,95,85]\n",
        "rects_r2 = ax.bar(ind+width, Non_PSNP, width, color='yellow')\n",
        "\n",
        "ax.set_ylabel('Percent')\n",
        "ax.set_xticks(ind+width)\n",
        "ax.set_ylim(0, 100)\n",
        "ax.set_xticklabels(('Amhara', 'Oromia', 'Somali', 'SNNP','Tigray'), fontsize=11)\n",
        "ax.legend( (rects_r1[0], rects_r2[0]), \n",
        "          ('PSNP', 'Non_PSNP'), fontsize=11)\n",
        "ax.set_title('PSNP Status', fontsize=11)\n",
        "\n",
        "plt.show()"
      ],
      "execution_count": 0,
      "outputs": [
        {
          "output_type": "display_data",
          "data": {
            "image/png": "[encoded data removed]",
            "text/plain": [
              "<Figure size 432x288 with 1 Axes>"
            ]
          },
          "metadata": {
            "tags": [],
            "needs_background": "light"
          }
        }
      ]
    },
    {
      "cell_type": "code",
      "metadata": {
        "id": "qxSNmr0kv3RR",
        "colab_type": "code",
        "colab": {}
      },
      "source": [
        "fig.savefig('PSNP Status.png')"
      ],
      "execution_count": 0,
      "outputs": []
    },
    {
      "cell_type": "code",
      "metadata": {
        "id": "oqMNwgOev3RT",
        "colab_type": "code",
        "outputId": "da40c682-001d-4268-c0de-5ba5ed3f793f",
        "colab": {}
      },
      "source": [
        "N = 5\n",
        "ind = np.arange(N)  # the x locations for the groups\n",
        "width = 0.35    # the width of the bars\n",
        "Region= ['Amhara', 'Oromia', 'Somali', 'SNNP','Tigray']\n",
        "\n",
        "fig = plt.figure()\n",
        "ax = fig.add_subplot(111)\n",
        "\n",
        "Food=[55,40,0,26,32]\n",
        "rects_r1 = ax.bar(ind, Food, width, color='cyan')\n",
        "Cash= [1,0,34,12,0]\n",
        "rects_r2 = ax.bar(ind+width, Cash, width, color='yellow')\n",
        "Both= [44,60,66,63,68]\n",
        "rects_r3 = ax.bar(ind+width*2, Both, width, color='red')\n",
        "\n",
        "ax.set_ylabel('Percent')\n",
        "ax.set_xticks(ind+width)\n",
        "ax.set_ylim(0, 100)\n",
        "ax.set_xticklabels(('Amhara', 'Oromia', 'Somali', 'SNNP','Tigray'), fontsize=11)\n",
        "ax.legend( (rects_r1[0], rects_r2[0], rects_r3[0]), \n",
        "          ('Food', 'Cash', 'Both'), fontsize=11)\n",
        "ax.set_title('Food, Cash or Both', fontsize=11)\n",
        "\n",
        "plt.show()"
      ],
      "execution_count": 0,
      "outputs": [
        {
          "output_type": "display_data",
          "data": {
            "image/png": "[encoded data removed]",
            "text/plain": [
              "<Figure size 432x288 with 1 Axes>"
            ]
          },
          "metadata": {
            "tags": [],
            "needs_background": "light"
          }
        }
      ]
    },
    {
      "cell_type": "code",
      "metadata": {
        "id": "WUWvWTOnv3RW",
        "colab_type": "code",
        "colab": {}
      },
      "source": [
        "fig.savefig('food_cash.png')"
      ],
      "execution_count": 0,
      "outputs": []
    },
    {
      "cell_type": "code",
      "metadata": {
        "id": "469gL2nuv3RY",
        "colab_type": "code",
        "outputId": "66a26e39-57d9-4cad-fc4c-75c0622ae851",
        "colab": {}
      },
      "source": [
        "N = 5\n",
        "ind = np.arange(N)  # the x locations for the groups\n",
        "width = 0.35    # the width of the bars\n",
        "Region= ['Amhara', 'Oromia', 'Somali', 'SNNP','Tigray']\n",
        "\n",
        "fig = plt.figure()\n",
        "ax = fig.add_subplot(111)\n",
        "\n",
        "d_ngo=[43,0,0,0,76]\n",
        "rects_r1 = ax.bar(ind, d_ngo, width, color='cyan')\n",
        "d_n_ngo= [48,93,32,8,73]\n",
        "rects_r2 = ax.bar(ind+width, d_n_ngo, width, color='red')\n",
        "\n",
        "ax.set_ylabel('Percent')\n",
        "ax.set_xticks(ind+width)\n",
        "ax.set_ylim(0, 100)\n",
        "ax.set_xticklabels(('Amhara', 'Oromia', 'Somali', 'SNNP','Tigray'), fontsize=11)\n",
        "ax.legend( (rects_r1[0], rects_r2[0]), \n",
        "          ('Delay NGO', 'Delay Non_NGO'), fontsize=11)\n",
        "ax.set_title('Delay Reported as a Problem by NGO and Non NGO Woredas', fontsize=11)\n",
        "\n",
        "plt.show()"
      ],
      "execution_count": 0,
      "outputs": [
        {
          "output_type": "display_data",
          "data": {
            "image/png": "[encoded data removed]",
            "text/plain": [
              "<Figure size 432x288 with 1 Axes>"
            ]
          },
          "metadata": {
            "tags": [],
            "needs_background": "light"
          }
        }
      ]
    },
    {
      "cell_type": "code",
      "metadata": {
        "id": "BDJy-3GGv3Rc",
        "colab_type": "code",
        "colab": {}
      },
      "source": [
        "fig.savefig('delay_serviceProvider.png')"
      ],
      "execution_count": 0,
      "outputs": []
    },
    {
      "cell_type": "code",
      "metadata": {
        "id": "E_Keyj8Xv3Rf",
        "colab_type": "code",
        "colab": {}
      },
      "source": [
        "\"\"\" C_13 What problem does your household faces while collecting cash or \n",
        "food assistance from the Programme \"\"\"\n",
        "\n",
        "region = ['Amhara', 'Oromia', 'Somali', 'SNNP', 'Tigray']\n",
        "Prob1 = [41, 42, 66, 45, 60]\n",
        "Prob2 = [58, 59, 23, 64, 59]\n",
        "Prob3 = [13, 41, 1, 10, 1]\n",
        "ProbOth = [10, 8, 0, 1, 0]\n",
        "Total = [122, 150, 90, 120, 120]\n",
        "\n",
        "np_Prob1= np.array(Prob1)\n",
        "np_Prob2 = np.array(Prob2)\n",
        "np_Prob3 = np.array(Prob3)\n",
        "np_ProbOth = np.array(ProbOth)\n",
        "np_Total= np.array(Total)\n",
        "perc_Prob1= np.array(np_Prob1 / np_Total)* 100\n",
        "perc_Prob2= np.array(np_Prob2/np_Total)* 100\n",
        "perc_Prob3= np.array(np_Prob3/ np_Total)* 100\n",
        "perc_ProbOth = np.array(np_ProbOth/ np_Total)* 100\n"
      ],
      "execution_count": 0,
      "outputs": []
    },
    {
      "cell_type": "code",
      "metadata": {
        "id": "5IgS_5zzxzBg",
        "colab_type": "code",
        "outputId": "48de3306-d8c1-4b39-e294-df12e53482db",
        "colab": {
          "base_uri": "https://localhost:8080/",
          "height": 315
        }
      },
      "source": [
        "y_pos = np.arange(len(region))\n",
        "plt.bar(y_pos, perc_Prob1, align='center', alpha=0.5, color=('red', 'green', 'blue', 'yellow', 'cyan'))\n",
        "plt.xticks(y_pos, region)\n",
        "plt.ylabel('Percent')\n",
        "plt.title('Reported Transfer delays')\n",
        "plt.figure(figsize=(40,20))\n",
        "\n",
        "plt.show()\n",
        "plt.savefig('delay.png')\n"
      ],
      "execution_count": 0,
      "outputs": [
        {
          "output_type": "display_data",
          "data": {
            "image/png": "[encoded data removed]",
            "text/plain": [
              "<Figure size 432x288 with 1 Axes>"
            ]
          },
          "metadata": {
            "tags": []
          }
        },
        {
          "output_type": "display_data",
          "data": {
            "text/plain": [
              "<Figure size 2880x1440 with 0 Axes>"
            ]
          },
          "metadata": {
            "tags": []
          }
        },
        {
          "output_type": "display_data",
          "data": {
            "text/plain": [
              "<Figure size 432x288 with 0 Axes>"
            ]
          },
          "metadata": {
            "tags": []
          }
        }
      ]
    },
    {
      "cell_type": "code",
      "metadata": {
        "id": "LS2DUI06x-_T",
        "colab_type": "code",
        "outputId": "bad36a8f-9d76-4056-a6e3-e8810f9fd4fe",
        "colab": {
          "base_uri": "https://localhost:8080/",
          "height": 281
        }
      },
      "source": [
        "y_pos = np.arange(len(region))\n",
        "plt.bar(y_pos, perc_Prob2, align='center', alpha=0.5, color=('red', 'green', 'blue', 'yellow', 'cyan'))\n",
        "plt.xticks(y_pos, region)\n",
        "plt.ylabel('Percent')\n",
        "plt.title('Reported Distance as a Problem ')\n",
        "\n",
        "plt.show()\n"
      ],
      "execution_count": 0,
      "outputs": [
        {
          "output_type": "display_data",
          "data": {
            "image/png": "[encoded data removed]",
            "text/plain": [
              "<Figure size 432x288 with 1 Axes>"
            ]
          },
          "metadata": {
            "tags": []
          }
        }
      ]
    },
    {
      "cell_type": "code",
      "metadata": {
        "id": "1zxreMflyBuI",
        "colab_type": "code",
        "outputId": "e64b2b3d-2f3a-4edb-e7ee-ac57b9db2936",
        "colab": {
          "base_uri": "https://localhost:8080/",
          "height": 298
        }
      },
      "source": [
        "y_pos = np.arange(len(region))\n",
        "plt.bar(y_pos, perc_Prob3, align='center', alpha=0.5, color=('red', 'green', 'blue', 'yellow', 'cyan'))\n",
        "plt.xticks(y_pos, region)\n",
        "plt.ylabel('Percent')\n",
        "plt.title('Reported Long Queues')\n",
        "\n",
        "plt.show()\n",
        "plt.savefig('queues.png')\n"
      ],
      "execution_count": 0,
      "outputs": [
        {
          "output_type": "display_data",
          "data": {
            "image/png": "[encoded data removed]",
            "text/plain": [
              "<Figure size 432x288 with 1 Axes>"
            ]
          },
          "metadata": {
            "tags": []
          }
        },
        {
          "output_type": "display_data",
          "data": {
            "text/plain": [
              "<Figure size 432x288 with 0 Axes>"
            ]
          },
          "metadata": {
            "tags": []
          }
        }
      ]
    },
    {
      "cell_type": "code",
      "metadata": {
        "id": "OUTrKTGQyEzF",
        "colab_type": "code",
        "outputId": "2457b730-e0d7-4360-ea94-00f5a3705e26",
        "colab": {
          "base_uri": "https://localhost:8080/",
          "height": 298
        }
      },
      "source": [
        "y_pos = np.arange(len(region))\n",
        "plt.bar(y_pos, perc_ProbOth, align='center', alpha=0.5, color=('red', 'green', 'blue', 'yellow', 'cyan'))\n",
        "plt.xticks(y_pos, region)\n",
        "plt.ylabel('Percent')\n",
        "plt.title('Reported Official maltreatment and others ')\n",
        "\n",
        "plt.show()\n",
        "plt.savefig('others.png')\n"
      ],
      "execution_count": 0,
      "outputs": [
        {
          "output_type": "display_data",
          "data": {
            "image/png": "[encoded data removed]",
            "text/plain": [
              "<Figure size 432x288 with 1 Axes>"
            ]
          },
          "metadata": {
            "tags": []
          }
        },
        {
          "output_type": "display_data",
          "data": {
            "text/plain": [
              "<Figure size 432x288 with 0 Axes>"
            ]
          },
          "metadata": {
            "tags": []
          }
        }
      ]
    },
    {
      "cell_type": "code",
      "metadata": {
        "id": "UKylhFgQyHhe",
        "colab_type": "code",
        "colab": {}
      },
      "source": [
        "# C_14a What was the reason for the delay?\n",
        "\n",
        "# reason for delay dataset\n",
        "\n",
        "delay1 = [2, 14, 4, 0, 10]\n",
        "delay2 = [4, 35, 16, 6, 47]\n",
        "delay3 = [5, 24, 1, 5, 0]\n",
        "delay5 = [3, 17, 5, 0, 41]\n",
        "delayOth = [4, 1, 0, 0, 0]\n",
        "#Total_delay = [18, 91, 21, 11, 98]\n",
        "Total_delay = [57, 139, 29, 9, 89]\n",
        "\n",
        "np_delay1= np.array(delay1)\n",
        "np_delay2 = np.array(delay2)\n",
        "np_delay3 = np.array(delay3)\n",
        "np_delay5 = np.array(delay5)\n",
        "np_delayOth = np.array(delayOth)\n",
        "np_Total_delay= np.array(Total_delay)\n",
        "pct_delay1= np.array(np_delay1 / np_Total_delay)* 100\n",
        "pct_delay2= np.array(np_delay2/np_Total_delay)* 100\n",
        "pct_delay3= np.array(np_delay3/ np_Total_delay)* 100\n",
        "pct_delay5= np.array(np_delay5/ np_Total_delay)* 100\n",
        "pct_delayOth = np.array(np_delayOth/ np_Total_delay)* 100\n",
        "\n"
      ],
      "execution_count": 0,
      "outputs": []
    },
    {
      "cell_type": "code",
      "metadata": {
        "id": "5MgXWGc2yV9m",
        "colab_type": "code",
        "outputId": "84cb1917-193c-4025-abdc-f6635f82c244",
        "colab": {
          "base_uri": "https://localhost:8080/",
          "height": 315
        }
      },
      "source": [
        "y_pos = np.arange(len(region))\n",
        "plt.bar(y_pos, pct_delay1, align='center', alpha=0.5, color=('red', 'green', 'blue', 'yellow', 'cyan'))\n",
        "plt.xticks(y_pos, region)\n",
        "plt.ylabel('Percent')\n",
        "plt.title('Delay from NGO')\n",
        "plt.figure(figsize=(40,20))\n",
        "\n",
        "plt.show()\n",
        "plt.savefig('ngo.png')"
      ],
      "execution_count": 0,
      "outputs": [
        {
          "output_type": "display_data",
          "data": {
            "image/png": "[encoded data removed]",
            "text/plain": [
              "<Figure size 432x288 with 1 Axes>"
            ]
          },
          "metadata": {
            "tags": []
          }
        },
        {
          "output_type": "display_data",
          "data": {
            "text/plain": [
              "<Figure size 2880x1440 with 0 Axes>"
            ]
          },
          "metadata": {
            "tags": []
          }
        },
        {
          "output_type": "display_data",
          "data": {
            "text/plain": [
              "<Figure size 432x288 with 0 Axes>"
            ]
          },
          "metadata": {
            "tags": []
          }
        }
      ]
    },
    {
      "cell_type": "code",
      "metadata": {
        "id": "tRGLhAzvyQR7",
        "colab_type": "code",
        "outputId": "7380d6b5-8f56-4350-f3fb-a2aee6d1f20c",
        "colab": {
          "base_uri": "https://localhost:8080/",
          "height": 298
        }
      },
      "source": [
        "y_pos = np.arange(len(region))\n",
        "plt.bar(y_pos, pct_delay2, align='center', alpha=0.5, color=('red', 'green', 'blue', 'yellow', 'cyan'))\n",
        "plt.xticks(y_pos, region)\n",
        "plt.ylabel('Percent')\n",
        "plt.title('Delay from Woreda')\n",
        "plt.figure(figsize=(40,20))\n",
        "\n",
        "plt.show()\n"
      ],
      "execution_count": 0,
      "outputs": [
        {
          "output_type": "display_data",
          "data": {
            "image/png": "[encoded data removed]",
            "text/plain": [
              "<Figure size 432x288 with 1 Axes>"
            ]
          },
          "metadata": {
            "tags": []
          }
        },
        {
          "output_type": "display_data",
          "data": {
            "text/plain": [
              "<Figure size 2880x1440 with 0 Axes>"
            ]
          },
          "metadata": {
            "tags": []
          }
        }
      ]
    },
    {
      "cell_type": "code",
      "metadata": {
        "id": "HC0zg_SqyTG3",
        "colab_type": "code",
        "outputId": "23976e3f-ca2f-4035-c294-4098fe98b565",
        "colab": {
          "base_uri": "https://localhost:8080/",
          "height": 315
        }
      },
      "source": [
        "y_pos = np.arange(len(region))\n",
        "plt.bar(y_pos, pct_delay3, align='center', alpha=0.5, color=('red', 'green', 'blue', 'yellow', 'cyan'))\n",
        "plt.xticks(y_pos, region)\n",
        "plt.ylabel('Percent')\n",
        "plt.title('Individual unavailable')\n",
        "plt.figure(figsize=(40,20))\n",
        "\n",
        "plt.show()\n",
        "plt.savefig('individual.png')\n"
      ],
      "execution_count": 0,
      "outputs": [
        {
          "output_type": "display_data",
          "data": {
            "image/png": "[encoded data removed]",
            "text/plain": [
              "<Figure size 432x288 with 1 Axes>"
            ]
          },
          "metadata": {
            "tags": []
          }
        },
        {
          "output_type": "display_data",
          "data": {
            "text/plain": [
              "<Figure size 2880x1440 with 0 Axes>"
            ]
          },
          "metadata": {
            "tags": []
          }
        },
        {
          "output_type": "display_data",
          "data": {
            "text/plain": [
              "<Figure size 432x288 with 0 Axes>"
            ]
          },
          "metadata": {
            "tags": []
          }
        }
      ]
    },
    {
      "cell_type": "code",
      "metadata": {
        "id": "wQLFYbqwyjkp",
        "colab_type": "code",
        "outputId": "dce2bbc9-b646-430f-a67b-4541f3dffb04",
        "colab": {
          "base_uri": "https://localhost:8080/",
          "height": 315
        }
      },
      "source": [
        "y_pos = np.arange(len(region))\n",
        "plt.bar(y_pos, pct_delay5, align='center', alpha=0.5, color=('red', 'green', 'blue', 'yellow', 'cyan'))\n",
        "plt.xticks(y_pos, region)\n",
        "plt.ylabel('Percent')\n",
        "plt.title('Delay transportation of Commodity')\n",
        "plt.figure(figsize=(40,20))\n",
        "\n",
        "plt.show()\n",
        "plt.savefig('transportation.png')"
      ],
      "execution_count": 0,
      "outputs": [
        {
          "output_type": "display_data",
          "data": {
            "image/png": "[encoded data removed]",
            "text/plain": [
              "<Figure size 432x288 with 1 Axes>"
            ]
          },
          "metadata": {
            "tags": []
          }
        },
        {
          "output_type": "display_data",
          "data": {
            "text/plain": [
              "<Figure size 2880x1440 with 0 Axes>"
            ]
          },
          "metadata": {
            "tags": []
          }
        },
        {
          "output_type": "display_data",
          "data": {
            "text/plain": [
              "<Figure size 432x288 with 0 Axes>"
            ]
          },
          "metadata": {
            "tags": []
          }
        }
      ]
    },
    {
      "cell_type": "code",
      "metadata": {
        "id": "cQVjkX43yqDN",
        "colab_type": "code",
        "outputId": "6ac90a91-fe76-4023-8b26-44a03e0938d2",
        "colab": {
          "base_uri": "https://localhost:8080/",
          "height": 315
        }
      },
      "source": [
        "y_pos = np.arange(len(region))\n",
        "plt.bar(y_pos, pct_delayOth, align='center', alpha=0.5, color=('red', 'green', 'blue', 'yellow', 'cyan'))\n",
        "plt.xticks(y_pos, region)\n",
        "plt.ylabel('Percent')\n",
        "plt.title('Other reasons eg. bank transfer system')\n",
        "plt.figure(figsize=(40,20))\n",
        "\n",
        "plt.show()\n",
        "plt.savefig('other.png')\n"
      ],
      "execution_count": 0,
      "outputs": [
        {
          "output_type": "display_data",
          "data": {
            "image/png": "[encoded data removed]",
            "text/plain": [
              "<Figure size 432x288 with 1 Axes>"
            ]
          },
          "metadata": {
            "tags": []
          }
        },
        {
          "output_type": "display_data",
          "data": {
            "text/plain": [
              "<Figure size 2880x1440 with 0 Axes>"
            ]
          },
          "metadata": {
            "tags": []
          }
        },
        {
          "output_type": "display_data",
          "data": {
            "text/plain": [
              "<Figure size 432x288 with 0 Axes>"
            ]
          },
          "metadata": {
            "tags": []
          }
        }
      ]
    },
    {
      "cell_type": "code",
      "metadata": {
        "id": "JmgHSuwOytqq",
        "colab_type": "code",
        "outputId": "544fc578-4a84-484f-f851-295c0033d519",
        "colab": {
          "base_uri": "https://localhost:8080/",
          "height": 281
        }
      },
      "source": [
        "# distance and time to collect transfers \n",
        "\n",
        "N = 5\n",
        "ind = np.arange(N)  # the x locations for the groups\n",
        "width = 0.25      # the width of the bars\n",
        "\n",
        "fig = plt.figure()\n",
        "ax = fig.add_subplot(111)\n",
        "\n",
        "dist1 = [29, 31, 92, 51, 28]\n",
        "rects1 = ax.bar(ind, dist1, width, color='cyan')\n",
        "dist2 = [26, 17, 8, 45, 52]\n",
        "rects2 = ax.bar(ind+width, dist2, width, color='y')\n",
        "dist3 = [45, 53, 0, 4, 20]\n",
        "rects3 = ax.bar(ind+width*2, dist3, width, color='r')\n",
        "\n",
        "ax.set_ylabel('Percent of Respondents')\n",
        "ax.set_xticks(ind+width)\n",
        "ax.set_xticklabels(('Amhara', 'Oromia', 'Somali', 'SNNP', 'Tigray'))\n",
        "ax.legend( (rects1[0], rects2[0], rects3[0]), ('Lessthan 3kms', '3-7kms', 'Morethan 7kms') )\n",
        "ax.set_title('Distance in kms to the transfer location')\n",
        "def autolabel(rects):\n",
        "    for rect in rects:\n",
        "        h = rect.get_height()\n",
        "        ax.text(rect.get_x()+rect.get_width()/2., 1.05*h, '%d'%int(h),\n",
        "                ha='center', va='bottom')\n",
        "\n",
        "autolabel(rects1)\n",
        "autolabel(rects2)\n",
        "autolabel(rects3)\n",
        "\n",
        "plt.show()\n"
      ],
      "execution_count": 0,
      "outputs": [
        {
          "output_type": "display_data",
          "data": {
            "image/png": "[encoded data removed]",
            "text/plain": [
              "<Figure size 432x288 with 1 Axes>"
            ]
          },
          "metadata": {
            "tags": []
          }
        }
      ]
    },
    {
      "cell_type": "code",
      "metadata": {
        "id": "Ifc6MqiayzZO",
        "colab_type": "code",
        "outputId": "0e9cf8c8-de29-49aa-fd54-bca0d6c5219c",
        "colab": {
          "base_uri": "https://localhost:8080/",
          "height": 281
        }
      },
      "source": [
        "#Time took to travel to payment location by Region\n",
        "\n",
        "N = 5\n",
        "ind = np.arange(N)  # the x locations for the groups\n",
        "width = 0.25       # the width of the bars\n",
        "\n",
        "fig = plt.figure()\n",
        "ax = fig.add_subplot(111)\n",
        "\n",
        "time1 = [47, 52, 91, 56, 45]\n",
        "rects_t1 = ax.bar(ind, time1, width, color='cyan')\n",
        "time2 = [29, 43, 9, 40, 38]\n",
        "rects_t2 = ax.bar(ind+width, time2, width, color='y')\n",
        "time3 = [25, 4, 0, 4, 17]\n",
        "rects_t3 = ax.bar(ind+width*2, time3, width, color='r')\n",
        "\n",
        "ax.set_ylabel('Percent of Respondents')\n",
        "ax.set_xticks(ind+width)\n",
        "ax.set_xticklabels(('Amhara', 'Oromia', 'Somali', 'SNNP', 'Tigray'))\n",
        "ax.legend( (rects_t1[0], rects_t2[0], rects_t3[0]), ('Lessthan 1hour', '1-2hours', 'Morethan 2hours') )\n",
        "ax.set_title('Time in hrs to travel to the transfer location')\n",
        "\n",
        "def autolabel(rects):\n",
        "    for rect in rects:\n",
        "        h = rect.get_height()\n",
        "        ax.text(rect.get_x()+rect.get_width()/2., 1.05*h, '%d'%int(h),\n",
        "                ha='center', va='bottom')\n",
        "\n",
        "autolabel(rects_t1)\n",
        "autolabel(rects_t2)\n",
        "autolabel(rects_t3)\n",
        "\n",
        "plt.show()\n"
      ],
      "execution_count": 0,
      "outputs": [
        {
          "output_type": "display_data",
          "data": {
            "image/png": "[encoded data removed]",
            "text/plain": [
              "<Figure size 432x288 with 1 Axes>"
            ]
          },
          "metadata": {
            "tags": []
          }
        }
      ]
    },
    {
      "cell_type": "code",
      "metadata": {
        "id": "Hvbd9bbby2q8",
        "colab_type": "code",
        "outputId": "05ac0328-85f3-4c1d-ba8d-acdf5fd7e24f",
        "colab": {
          "base_uri": "https://localhost:8080/",
          "height": 281
        }
      },
      "source": [
        "# the number of rounds households recieved assistants \n",
        "\n",
        "N = 5\n",
        "ind = np.arange(N)  # the x locations for the groups\n",
        "width = 0.15       # the width of the bars\n",
        "\n",
        "fig = plt.figure()\n",
        "ax = fig.add_subplot(111)\n",
        "\n",
        "rounds_1 = [0.17, 0.00 , 0.00 , 9.85 , 18.58] \n",
        "rects_r1 = ax.bar(ind, rounds_1, width, color='cyan')\n",
        "rounds_2 = [3.14 ,  0.00, 45.07,  6.77, 18.58 ]\n",
        "rects_r2 = ax.bar(ind+width, rounds_2, width, color='y')\n",
        "rounds_3 = [ 12.54 , 3.00 ,  0.00, 52.62 ,  15.79 ]\n",
        "rects_r3 = ax.bar(ind+width*2, rounds_3, width, color='r')\n",
        "rounds_4 = [14.63, 2.07 , 0.00 , 12.31 , 15.79] \n",
        "rects_r4 = ax.bar(ind, rounds_4, width, color='orange')\n",
        "rounds_5 = [4.36 ,  75.78, 00.00,  0.00, 15.63]\n",
        "rects_r5 = ax.bar(ind+width*3, rounds_5, width, color='green')\n",
        "rounds_6 = [ 62.72 , 21.76 ,  54.93, 18.46 ,  15.63 ]\n",
        "rects_r6 = ax.bar(ind+width*4, rounds_6, width, color='blue')\n",
        "rounds_7 = [ 2.44 , 0.00 ,  0.00, 0.00 ,   0.00 ]\n",
        "rects_r7 = ax.bar(ind+width*5, rounds_7, width, color='black')\n",
        "\n",
        "ax.set_ylabel('Percent of Respondents')\n",
        "ax.set_xticks(ind+width)\n",
        "ax.set_xticklabels(('Amhara', 'Oromia', 'Somali', 'SNNP', 'Tigray'))\n",
        "ax.legend( (rects_r1[0], rects_r2[0], rects_r3[0], rects_r4[0], rects_r5[0], rects_r6[0], rects_r7[0]), \n",
        "          ('1 round', '2 rounds', '3 rounds', '4 rounds', '5 rounds', '6 rounds', '7 rounds'))\n",
        "ax.set_title('Number of Rounds Households Recieved Assistance')\n",
        "\n",
        "def autolabel(rects):\n",
        "    for rect in rects:\n",
        "        h = rect.get_height()\n",
        "        ax.text(rect.get_x()+rect.get_width()/2., 1.05*h, '%d'%int(h),\n",
        "               ha='center', va='bottom')\n",
        "\n",
        "autolabel(rects_r1)\n",
        "autolabel(rects_r2)\n",
        "autolabel(rects_r3)\n",
        "autolabel(rects_r4)\n",
        "autolabel(rects_r5)\n",
        "autolabel(rects_r6)\n",
        "autolabel(rects_r7)\n",
        "\n",
        "plt.show()\n"
      ],
      "execution_count": 0,
      "outputs": [
        {
          "output_type": "display_data",
          "data": {
            "image/png": "[encoded data removed]",
            "text/plain": [
              "<Figure size 432x288 with 1 Axes>"
            ]
          },
          "metadata": {
            "tags": []
          }
        }
      ]
    },
    {
      "cell_type": "code",
      "metadata": {
        "id": "5vGhPcPJy6Lk",
        "colab_type": "code",
        "outputId": "6612ed6b-278b-4509-ce7a-5e9497619e02",
        "colab": {
          "base_uri": "https://localhost:8080/",
          "height": 284
        }
      },
      "source": [
        "# above stacked bar \n",
        "\n",
        "N = 5\n",
        "ind = np.arange(N)  # the x locations for the groups\n",
        "width = 0.25       # the width of the bars\n",
        "rounds_1 = [0.17, 0.00 , 0.00 , 9.85 , 18.58] \n",
        "rounds_2 = [3.14 ,  0.00, 45.07,  6.77, 18.58 ]\n",
        "rounds_3 = [ 12.54 , 3.00 ,  0.00, 52.62 ,  15.79 ]\n",
        "rounds_4 = [14.63, 2.07 , 0.00 , 12.31 , 15.79]\n",
        "rounds_5 = [4.36 ,  75.78, 00.00,  0.00, 15.63]\n",
        "rounds_6 = [ 62.72 , 21.76 ,  54.93, 18.46 ,  15.63 ]\n",
        "rounds_7 = [ 2.44 , 0.00 ,  0.00, 0.00 ,   0.00 ]\n",
        "\n",
        "\n",
        "#fig = plt.figure()\n",
        "#ax = fig.add_subplot(111)\n",
        "\n",
        "\n",
        "p1 = plt.bar(ind, rounds_1, width, color='cyan')\n",
        "p2 = plt.bar(ind, rounds_2, width, bottom=rounds_1, color='y')\n",
        "p3 = plt.bar(ind, rounds_3, width,   bottom=rounds_2, color='r')\n",
        "p4 = plt.bar(ind, rounds_4, width,   bottom=rounds_3, color='orange')\n",
        "p5 = plt.bar(ind, rounds_5, width,   bottom=rounds_4, color='green')\n",
        "p6 = plt.bar(ind, rounds_6, width,  bottom=rounds_5, color='blue')\n",
        "p7 = plt.bar(ind, rounds_7, width,   bottom=rounds_6, color='black')\n",
        "\n",
        "plt.ylabel('Percent of Respondents', fontsize=12)\n",
        "plt.xticks(ind, region, fontsize=12)\n",
        "#plt.xticklabels(('Amhara', 'Oromia', 'Somali', 'SNNP', 'Tigray'))\n",
        "plt.ylim([0,120])\n",
        "plt.yticks(fontsize=12)\n",
        "\n",
        "\n",
        "plt.legend( (rects_r1[0], rects_r2[0], rects_r3[0], rects_r4[0], rects_r5[0], rects_r6[0], rects_r7[0]), \n",
        "          ('1 round', '2 rounds', '3 rounds', '4 rounds', '5 rounds', '6 rounds', '7 rounds'))\n",
        "plt.title('Number of Rounds Households Recieved Assistance')\n",
        "\n",
        "def autolabel(rects):\n",
        "    for rect in rects:\n",
        "        h = rect.get_height()\n",
        "\n",
        "autolabel(p1)\n",
        "autolabel(p2)\n",
        "autolabel(p3)\n",
        "autolabel(p4)\n",
        "autolabel(p5)\n",
        "autolabel(p6)\n",
        "autolabel(p7)\n",
        "\n"
      ],
      "execution_count": 0,
      "outputs": [
        {
          "output_type": "display_data",
          "data": {
            "image/png": "[encoded data removed]",
            "text/plain": [
              "<Figure size 432x288 with 1 Axes>"
            ]
          },
          "metadata": {
            "tags": []
          }
        }
      ]
    },
    {
      "cell_type": "code",
      "metadata": {
        "id": "NWJ3d_KGy_Ob",
        "colab_type": "code",
        "outputId": "9ac888d9-7ced-4f44-a3a8-7ca6354e39c0",
        "colab": {
          "base_uri": "https://localhost:8080/",
          "height": 281
        }
      },
      "source": [
        "# above stacked bar 100%\n",
        "\n",
        "\n",
        "N = 5\n",
        "ind = np.arange(N)  # the x locations for the groups\n",
        "width = 0.40       # the width of the bars\n",
        "rounds_1 = [0.17, 0.00 , 0.00 , 9.85 , 18.58] \n",
        "rounds_2 = [3.14 ,  0.00, 45.07,  6.77, 18.58 ]\n",
        "rounds_3 = [ 12.54 , 3.00 ,  0.00, 52.62 ,  15.79 ]\n",
        "rounds_4 = [14.63, 2.07 , 0.00 , 12.31 , 15.79]\n",
        "rounds_5 = [4.36 ,  75.78, 00.00,  0.00, 15.63]\n",
        "rounds_6 = [ 62.72 , 21.76 ,  54.93, 18.46 ,  15.63 ]\n",
        "rounds_7 = [ 2.44 , 0.00 ,  0.00, 0.00 ,   0.00 ]\n",
        "\n",
        "\n",
        "#You need the bottom of each dataset to be the sum of all the datasets that came before. \n",
        "#you may also need to convert the datasets to numpy arrays to add them together.)\n",
        "np_rounds_1 = np.array(rounds_1)\n",
        "np_rounds_2  = np.array(rounds_2)\n",
        "np_rounds_3  = np.array(rounds_3)\n",
        "np_rounds_4  = np.array(rounds_4)\n",
        "np_rounds_5  = np.array(rounds_5)\n",
        "np_rounds_6  = np.array(rounds_6)\n",
        "np_rounds_7  = np.array(rounds_7)\n",
        "\n",
        "rects_1 = plt.bar(ind, rounds_1, width, color='cyan')\n",
        "rects_2 = plt.bar(ind, rounds_2, width, bottom=rounds_1, color='yellow')\n",
        "rects_3 = plt.bar(ind, rounds_3, width, bottom=np_rounds_1 + np_rounds_2, color='r')\n",
        "rects_4 = plt.bar(ind, rounds_4, width, bottom=np_rounds_1 + np_rounds_2 + np_rounds_3, color='orange')\n",
        "rects_5 = plt.bar(ind, rounds_5, width, bottom=np_rounds_1 + np_rounds_2 + np_rounds_3 + np_rounds_4, color='lime')\n",
        "rects_6 = plt.bar(ind, rounds_6, width, bottom=np_rounds_1 + np_rounds_2 + np_rounds_3 + np_rounds_4 + np_rounds_5, color='lightskyblue')\n",
        "rects_7 = plt.bar(ind, rounds_7, width, bottom=np_rounds_1 + np_rounds_2 + np_rounds_3 + np_rounds_4 + np_rounds_5 + np_rounds_6, color='black')\n",
        "\n",
        "plt.ylabel('Percent of Respondents', fontsize=11)\n",
        "plt.xticks(ind, region, fontsize=11)\n",
        "#plt.xticklabels(('Amhara', 'Oromia', 'Somali', 'SNNP', 'Tigray'))\n",
        "plt.ylim([0,120])\n",
        "plt.yticks(fontsize=11)\n",
        "\n",
        "plt.legend( (rects_1[0], rects_2[0], rects_3[0], rects_4[0], rects_5[0], rects_6[0], rects_7[0]), \n",
        "          ('1r', '2rs', '3rs', '4rs', '5rs', '6rs', '7rs'), loc=2,\n",
        "           ncol=7, mode=\"expand\", borderaxespad=0. )\n",
        "\n",
        "plt.title('Number of Rounds Households Recieved Assistance', fontsize=12)\n",
        "\n",
        "def autolabel(rects):\n",
        "    for rect in rects:\n",
        "        h = rect.get_height()\n",
        "        ax.text(rect.get_x()+rect.get_width()/2., 1.05*h, '%d'%int(h),\n",
        "               ha='center', va='bottom')\n",
        "\n",
        "autolabel(rects_1)\n",
        "autolabel(rects_2)\n",
        "autolabel(rects_3)\n",
        "autolabel(rects_4)\n",
        "autolabel(rects_5)\n",
        "autolabel(rects_6)\n",
        "autolabel(rects_7)\n",
        "\n",
        "plt.show()\n"
      ],
      "execution_count": 0,
      "outputs": [
        {
          "output_type": "display_data",
          "data": {
            "image/png": "[encoded data removed]",
            "text/plain": [
              "<Figure size 432x288 with 1 Axes>"
            ]
          },
          "metadata": {
            "tags": []
          }
        }
      ]
    },
    {
      "cell_type": "code",
      "metadata": {
        "id": "-REEa69_zfe0",
        "colab_type": "code",
        "outputId": "01b544cd-ca2d-4a8b-d3da-10086ffc6052",
        "colab": {
          "base_uri": "https://localhost:8080/",
          "height": 281
        }
      },
      "source": [
        "N = 7\n",
        "ind = np.arange(N)  # the x locations for the groups\n",
        "width = 0.15     # the width of the bars\n",
        "Rounds= [1,2,3,4,5,6,7]\n",
        "\n",
        "np_amhara = np.array(Amhara)\n",
        "np_oromia  = np.array(Oromia)\n",
        "np_somali  = np.array(Somali)\n",
        "np_snnp  = np.array(SNNP)\n",
        "np_tigray  = np.array(Tigray)\n",
        "\n",
        "\n",
        "fig = plt.figure()\n",
        "ax = fig.add_subplot(111)\n",
        "\n",
        "Amhara=[30,30,30,60,30,30,35]\n",
        "rects_r1 = ax.bar(ind, Amhara, width, color='cyan')\n",
        "Oromia=[520,415,52,53,50,45,189]\n",
        "rects_r2 = ax.bar(ind+width, Oromia, width, color='y')\n",
        "Somali=[1200,75,960,960,960,960,853]\n",
        "rects_r3 = ax.bar(ind+width*2, Somali, width, color='r')\n",
        "SNNP=[65,520,75,690,60,690,350]\n",
        "rects_r4 = ax.bar(ind, SNNP, width, color='orange')\n",
        "Tigray=[700,470,45,45,45,60,228]\n",
        "rects_r5 = ax.bar(ind+width*3, Tigray, width, color='green')\n",
        "\n",
        "ax.set_ylabel('Median amount recieved')\n",
        "ax.set_xticks(ind+width)\n",
        "ax.set_ylim(0, 1200)\n",
        "ax.set_xticklabels(('Round 1', 'Round 2', 'Round 3', 'Round 4', 'Round 5', 'Round 6', 'Round 7'))\n",
        "ax.legend( (rects_r1[0], rects_r2[0], rects_r3[0], rects_r4[0], rects_r5[0]), \n",
        "          ('Amhara', 'Oromia', 'Somali', 'SNNP', 'Tigray'))\n",
        "ax.set_title('Amount recieved by beneficaries and round number')\n",
        "\"\"\"\n",
        "def autolabel(rects):\n",
        "    for rect in rects:\n",
        "        h = rect.get_height()\n",
        "        ax.text(rect.get_x()+rect.get_width()/2., 1.05*h, '%d'%int(h),\n",
        "               ha='center', va='bottom')\n",
        "\n",
        "autolabel(rects_r1)\n",
        "autolabel(rects_r2)\n",
        "autolabel(rects_r3)\n",
        "autolabel(rects_r4)\n",
        "autolabel(rects_r5)\n",
        "\n",
        "\"\"\"\n",
        "plt.show()\n"
      ],
      "execution_count": 0,
      "outputs": [
        {
          "output_type": "display_data",
          "data": {
            "image/png": "[encoded data removed]",
            "text/plain": [
              "<Figure size 432x288 with 1 Axes>"
            ]
          },
          "metadata": {
            "tags": []
          }
        }
      ]
    },
    {
      "cell_type": "code",
      "metadata": {
        "id": "PoQLXA155ugc",
        "colab_type": "code",
        "outputId": "10e349d5-a96f-47d8-9901-dbb4707c0acc",
        "colab": {
          "base_uri": "https://localhost:8080/",
          "height": 279
        }
      },
      "source": [
        "N = 5\n",
        "ind = np.arange(N)  # the x locations for the groups\n",
        "width = 0.35    # the width of the bars\n",
        "Region= ['Amhara', 'Oromia', 'Somali', 'SNNP','Total']\n",
        "\n",
        "fig = plt.figure()\n",
        "ax = fig.add_subplot(111)\n",
        "\n",
        "Food=[85,76,23,51,67]\n",
        "rects_r1 = ax.bar(ind, Food, width, color='cyan')\n",
        "Cash= [15,24,77,49,33]\n",
        "rects_r2 = ax.bar(ind+width, Cash, width, color='yellow')\n",
        "\n",
        "ax.set_ylabel('Percent')\n",
        "ax.set_xticks(ind+width)\n",
        "ax.set_ylim(0, 100)\n",
        "ax.set_xticklabels(('Amhara', 'Oromia', 'Somali', 'SNNP','Total'), fontsize=11)\n",
        "ax.legend( (rects_r1[0], rects_r2[0]), \n",
        "          ('Food', 'Cash'), fontsize=11)\n",
        "ax.set_title('Type of assistance recieved by Region', fontsize=11)\n",
        "\n",
        "plt.show()"
      ],
      "execution_count": 0,
      "outputs": [
        {
          "output_type": "display_data",
          "data": {
            "image/png": "[encoded data removed]",
            "text/plain": [
              "<Figure size 432x288 with 1 Axes>"
            ]
          },
          "metadata": {
            "tags": []
          }
        }
      ]
    },
    {
      "cell_type": "code",
      "metadata": {
        "id": "Lrk-PHG-6GR2",
        "colab_type": "code",
        "colab": {}
      },
      "source": [
        ""
      ],
      "execution_count": 0,
      "outputs": []
    }
  ]
}